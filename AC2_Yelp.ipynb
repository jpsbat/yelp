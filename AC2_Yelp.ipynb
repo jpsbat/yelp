{
  "cells": [
    {
      "cell_type": "markdown",
      "metadata": {
        "id": "iblZgn5xJOQa"
      },
      "source": [
        "# <center>Centro Universitário Facens<br/></center>\n",
        "<font size=\"4\"><center><b>Disciplina: Big Data</b></center></font>\n",
        "  \n",
        "<font size=\"3\"><center>Prof. Fabrício Torquato</center></font>\n",
        "\n",
        "# <center>Avaliação Continuada 2 (AC2)</center>\n",
        "## <center>Dataset escolhido: Yelp Dataset</center>\n"
      ]
    },
    {
      "cell_type": "markdown",
      "metadata": {
        "id": "wWzumefgJYSJ"
      },
      "source": [
        "----\n",
        "#### <center>RA, Turma e nome dos componentes do grupo</center>\n",
        "\n",
        "    \n",
        "| RA       | Turma        |           Nome            |\n",
        "|:-        |:-            |:-------------------------:|\n",
        "|  210167  |  CP905TIN1   | Caio Reis Despontin       |\n",
        "|  210052  |  CP905TIN1   | João Pedro Santos Batista |\n",
        "|  210037  |  CP905TIN1   | Vinicius Gonçalves Angelo |\n",
        "|  210411  |  CP905TIN1   | Vinicius Ribeiro Silva    |\n",
        "\n",
        "----"
      ]
    },
    {
      "cell_type": "markdown",
      "metadata": {
        "id": "ZiEsaVNRJxX1"
      },
      "source": [
        "O dataset escolhido contém avaliações e informações sobre empresas listadas na plataforma **Yelp**, que é um **site de recomendações** de restaurantes, bares, lojas e outros estabelecimentos."
      ]
    },
    {
      "cell_type": "markdown",
      "metadata": {
        "id": "318JbBpyMmpd"
      },
      "source": [
        "# Possui 5 arquivos JSON:\n",
        "1.   **yelp_academic_dataset_business.json**\n",
        "→ Informações sobre empresas (nome, localização, categorias, estrelas médias, etc.)\n",
        "\n",
        "2.   **yelp_academic_dataset_review.json**\n",
        "→ Avaliações escritas, nota de 1 a 5 estrelas, data e ID do usuário/empresa.\n",
        "\n",
        "3.   **yelp_academic_dataset_user.json**\n",
        "→ Informações sobre os usuários, incluindo reviews escritos, número de amigos, etc.\n",
        "\n",
        "4.   **yelp_academic_dataset_checkin.json**\n",
        "→ Dados de check-ins feitos nos estabelecimentos\n",
        "\n",
        "5.   **yelp_academic_dataset_tip.json**\n",
        "→ Dicas rápidas deixadas pelos usuários."
      ]
    },
    {
      "cell_type": "markdown",
      "metadata": {
        "id": "EOBtkpu0MoU3"
      },
      "source": [
        "# Arquivo escolhido: Review\n",
        "## Classificar Sentimento das Reviews\n",
        "- Classe Alvo: Sentimento da review.\n",
        "- Base principal: review.json (com as notas de 1 a 5).\n",
        "- Pré-processamento: transformar notas em classes.\n",
        "----"
      ]
    },
    {
      "cell_type": "markdown",
      "source": [
        "# Construção do Ambiente Apache de Big Data\n",
        "Nesta primeira parte do projeto, foi realizado a simulação de um ambiente de Big Data utilizando ferramentas do ecossistema Apache.\n",
        "\n",
        "Para isso, foram utilizados Docker e Docker Compose para orquestrar contêineres contendo os principais componentes de uma infraestrutura distribuída de Big Data:\n",
        "\n",
        "- NameNode e DataNode para formar o sistema de arquivos distribuído (HDFS).\n",
        "- Hive configurado para organização dos dados no HDFS.\n",
        "- O ambiente está preparado para integração com o Apache Spark, utilizado nas próximas etapas do projeto para processamento e modelagem preditiva.\n",
        "\n",
        "### Ações executadas:\n",
        "- Subir os serviços com docker-compose, ativando os contêineres de Hadoop e Hive.\n",
        "- Criar o diretório `/user/hive/warehouse/yelp` no HDFS.\n",
        "- Transferir o dataset real em json para dentro de um dos contêineres.\n",
        "- Subir o arquivo para o HDFS e validar a sua existência `hadoop fs -cat`.\n",
        "- O ambiente encontra-se funcional, preparado para leitura e análise dos dados via Spark.\n",
        "\n",
        "Esse processo garantiu um ambiente de Big Data completo, funcional e replicável, com o objetivo de viabilizar o processamento distribuído de dados em larga escala."
      ],
      "metadata": {
        "id": "uA0aoYvwpgje"
      }
    },
    {
      "cell_type": "markdown",
      "metadata": {
        "id": "VzeEcqZoJfeh"
      },
      "source": [
        "#### Carregando o dataset (utilizando token do Kaggle)"
      ]
    },
    {
      "cell_type": "code",
      "execution_count": null,
      "metadata": {
        "colab": {
          "base_uri": "https://localhost:8080/",
          "height": 90
        },
        "id": "cpc2GEZk9RVj",
        "outputId": "bde9c282-8665-42db-ea27-55340724ae3d"
      },
      "outputs": [
        {
          "output_type": "display_data",
          "data": {
            "text/plain": [
              "<IPython.core.display.HTML object>"
            ],
            "text/html": [
              "\n",
              "     <input type=\"file\" id=\"files-6a80227b-b885-44b6-906d-89a5fe163b57\" name=\"files[]\" multiple disabled\n",
              "        style=\"border:none\" />\n",
              "     <output id=\"result-6a80227b-b885-44b6-906d-89a5fe163b57\">\n",
              "      Upload widget is only available when the cell has been executed in the\n",
              "      current browser session. Please rerun this cell to enable.\n",
              "      </output>\n",
              "      <script>// Copyright 2017 Google LLC\n",
              "//\n",
              "// Licensed under the Apache License, Version 2.0 (the \"License\");\n",
              "// you may not use this file except in compliance with the License.\n",
              "// You may obtain a copy of the License at\n",
              "//\n",
              "//      http://www.apache.org/licenses/LICENSE-2.0\n",
              "//\n",
              "// Unless required by applicable law or agreed to in writing, software\n",
              "// distributed under the License is distributed on an \"AS IS\" BASIS,\n",
              "// WITHOUT WARRANTIES OR CONDITIONS OF ANY KIND, either express or implied.\n",
              "// See the License for the specific language governing permissions and\n",
              "// limitations under the License.\n",
              "\n",
              "/**\n",
              " * @fileoverview Helpers for google.colab Python module.\n",
              " */\n",
              "(function(scope) {\n",
              "function span(text, styleAttributes = {}) {\n",
              "  const element = document.createElement('span');\n",
              "  element.textContent = text;\n",
              "  for (const key of Object.keys(styleAttributes)) {\n",
              "    element.style[key] = styleAttributes[key];\n",
              "  }\n",
              "  return element;\n",
              "}\n",
              "\n",
              "// Max number of bytes which will be uploaded at a time.\n",
              "const MAX_PAYLOAD_SIZE = 100 * 1024;\n",
              "\n",
              "function _uploadFiles(inputId, outputId) {\n",
              "  const steps = uploadFilesStep(inputId, outputId);\n",
              "  const outputElement = document.getElementById(outputId);\n",
              "  // Cache steps on the outputElement to make it available for the next call\n",
              "  // to uploadFilesContinue from Python.\n",
              "  outputElement.steps = steps;\n",
              "\n",
              "  return _uploadFilesContinue(outputId);\n",
              "}\n",
              "\n",
              "// This is roughly an async generator (not supported in the browser yet),\n",
              "// where there are multiple asynchronous steps and the Python side is going\n",
              "// to poll for completion of each step.\n",
              "// This uses a Promise to block the python side on completion of each step,\n",
              "// then passes the result of the previous step as the input to the next step.\n",
              "function _uploadFilesContinue(outputId) {\n",
              "  const outputElement = document.getElementById(outputId);\n",
              "  const steps = outputElement.steps;\n",
              "\n",
              "  const next = steps.next(outputElement.lastPromiseValue);\n",
              "  return Promise.resolve(next.value.promise).then((value) => {\n",
              "    // Cache the last promise value to make it available to the next\n",
              "    // step of the generator.\n",
              "    outputElement.lastPromiseValue = value;\n",
              "    return next.value.response;\n",
              "  });\n",
              "}\n",
              "\n",
              "/**\n",
              " * Generator function which is called between each async step of the upload\n",
              " * process.\n",
              " * @param {string} inputId Element ID of the input file picker element.\n",
              " * @param {string} outputId Element ID of the output display.\n",
              " * @return {!Iterable<!Object>} Iterable of next steps.\n",
              " */\n",
              "function* uploadFilesStep(inputId, outputId) {\n",
              "  const inputElement = document.getElementById(inputId);\n",
              "  inputElement.disabled = false;\n",
              "\n",
              "  const outputElement = document.getElementById(outputId);\n",
              "  outputElement.innerHTML = '';\n",
              "\n",
              "  const pickedPromise = new Promise((resolve) => {\n",
              "    inputElement.addEventListener('change', (e) => {\n",
              "      resolve(e.target.files);\n",
              "    });\n",
              "  });\n",
              "\n",
              "  const cancel = document.createElement('button');\n",
              "  inputElement.parentElement.appendChild(cancel);\n",
              "  cancel.textContent = 'Cancel upload';\n",
              "  const cancelPromise = new Promise((resolve) => {\n",
              "    cancel.onclick = () => {\n",
              "      resolve(null);\n",
              "    };\n",
              "  });\n",
              "\n",
              "  // Wait for the user to pick the files.\n",
              "  const files = yield {\n",
              "    promise: Promise.race([pickedPromise, cancelPromise]),\n",
              "    response: {\n",
              "      action: 'starting',\n",
              "    }\n",
              "  };\n",
              "\n",
              "  cancel.remove();\n",
              "\n",
              "  // Disable the input element since further picks are not allowed.\n",
              "  inputElement.disabled = true;\n",
              "\n",
              "  if (!files) {\n",
              "    return {\n",
              "      response: {\n",
              "        action: 'complete',\n",
              "      }\n",
              "    };\n",
              "  }\n",
              "\n",
              "  for (const file of files) {\n",
              "    const li = document.createElement('li');\n",
              "    li.append(span(file.name, {fontWeight: 'bold'}));\n",
              "    li.append(span(\n",
              "        `(${file.type || 'n/a'}) - ${file.size} bytes, ` +\n",
              "        `last modified: ${\n",
              "            file.lastModifiedDate ? file.lastModifiedDate.toLocaleDateString() :\n",
              "                                    'n/a'} - `));\n",
              "    const percent = span('0% done');\n",
              "    li.appendChild(percent);\n",
              "\n",
              "    outputElement.appendChild(li);\n",
              "\n",
              "    const fileDataPromise = new Promise((resolve) => {\n",
              "      const reader = new FileReader();\n",
              "      reader.onload = (e) => {\n",
              "        resolve(e.target.result);\n",
              "      };\n",
              "      reader.readAsArrayBuffer(file);\n",
              "    });\n",
              "    // Wait for the data to be ready.\n",
              "    let fileData = yield {\n",
              "      promise: fileDataPromise,\n",
              "      response: {\n",
              "        action: 'continue',\n",
              "      }\n",
              "    };\n",
              "\n",
              "    // Use a chunked sending to avoid message size limits. See b/62115660.\n",
              "    let position = 0;\n",
              "    do {\n",
              "      const length = Math.min(fileData.byteLength - position, MAX_PAYLOAD_SIZE);\n",
              "      const chunk = new Uint8Array(fileData, position, length);\n",
              "      position += length;\n",
              "\n",
              "      const base64 = btoa(String.fromCharCode.apply(null, chunk));\n",
              "      yield {\n",
              "        response: {\n",
              "          action: 'append',\n",
              "          file: file.name,\n",
              "          data: base64,\n",
              "        },\n",
              "      };\n",
              "\n",
              "      let percentDone = fileData.byteLength === 0 ?\n",
              "          100 :\n",
              "          Math.round((position / fileData.byteLength) * 100);\n",
              "      percent.textContent = `${percentDone}% done`;\n",
              "\n",
              "    } while (position < fileData.byteLength);\n",
              "  }\n",
              "\n",
              "  // All done.\n",
              "  yield {\n",
              "    response: {\n",
              "      action: 'complete',\n",
              "    }\n",
              "  };\n",
              "}\n",
              "\n",
              "scope.google = scope.google || {};\n",
              "scope.google.colab = scope.google.colab || {};\n",
              "scope.google.colab._files = {\n",
              "  _uploadFiles,\n",
              "  _uploadFilesContinue,\n",
              "};\n",
              "})(self);\n",
              "</script> "
            ]
          },
          "metadata": {}
        },
        {
          "output_type": "stream",
          "name": "stdout",
          "text": [
            "Saving kaggle.json to kaggle.json\n"
          ]
        },
        {
          "output_type": "execute_result",
          "data": {
            "text/plain": [
              "{'kaggle.json': b'{\"username\":\"jpsbat\",\"key\":\"59c7ba999fb6f8828343e6d2ed42cf63\"}'}"
            ]
          },
          "metadata": {},
          "execution_count": 1
        }
      ],
      "source": [
        "from google.colab import files\n",
        "files.upload()"
      ]
    },
    {
      "cell_type": "code",
      "execution_count": null,
      "metadata": {
        "id": "DfQzLvmF-Scy"
      },
      "outputs": [],
      "source": [
        "!mkdir -p ~/.kaggle\n",
        "!mv kaggle.json ~/.kaggle/\n",
        "!chmod 600 ~/.kaggle/kaggle.json"
      ]
    },
    {
      "cell_type": "code",
      "execution_count": null,
      "metadata": {
        "colab": {
          "base_uri": "https://localhost:8080/"
        },
        "id": "Xd0l_LIx-Un-",
        "outputId": "e271cfd1-3403-4e41-e2cf-bcd429e8d754"
      },
      "outputs": [
        {
          "output_type": "stream",
          "name": "stdout",
          "text": [
            "Dataset URL: https://www.kaggle.com/datasets/yelp-dataset/yelp-dataset\n"
          ]
        }
      ],
      "source": [
        "from kaggle.api.kaggle_api_extended import KaggleApi\n",
        "import os\n",
        "\n",
        "api = KaggleApi()\n",
        "api.authenticate()\n",
        "\n",
        "download_path = \"/content/yelp_data\"\n",
        "os.makedirs(download_path, exist_ok=True)\n",
        "\n",
        "api.dataset_download_files('yelp-dataset/yelp-dataset', path=download_path, unzip=True)"
      ]
    },
    {
      "cell_type": "code",
      "execution_count": null,
      "metadata": {
        "id": "ri45hxpl-bf-"
      },
      "outputs": [],
      "source": [
        "from pyspark.sql import SparkSession\n",
        "\n",
        "spark = SparkSession.builder \\\n",
        "    .appName(\"Yelp Dataset in Colab\") \\\n",
        "    .getOrCreate()\n",
        "\n",
        "df = spark.read.json(\"/content/yelp_data/yelp_academic_dataset_review.json\")"
      ]
    },
    {
      "cell_type": "code",
      "source": [
        "import os\n",
        "\n",
        "file_path = \"/content/yelp_data/yelp_academic_dataset_review.json\"\n",
        "\n",
        "file_size_bytes = os.path.getsize(file_path)\n",
        "file_size_mb = file_size_bytes / (1024 * 1024)\n",
        "file_size_gb = file_size_bytes / (1024 ** 3)\n",
        "\n",
        "print(f\"Tamanho do arquivo em bytes: {file_size_bytes}\")\n",
        "print(f\"Tamanho do arquivo em MB: {file_size_mb:.2f} MB\")"
      ],
      "metadata": {
        "colab": {
          "base_uri": "https://localhost:8080/"
        },
        "id": "gOTfASZhKetx",
        "outputId": "1f83a93b-f9af-4b19-eb8e-90173308a7fa"
      },
      "execution_count": null,
      "outputs": [
        {
          "output_type": "stream",
          "name": "stdout",
          "text": [
            "Tamanho do arquivo em bytes: 5341868833\n",
            "Tamanho do arquivo em MB: 5094.40 MB\n"
          ]
        }
      ]
    },
    {
      "cell_type": "markdown",
      "metadata": {
        "id": "ucgK8bAeJqkA"
      },
      "source": [
        "#### Exibindo o dataset"
      ]
    },
    {
      "cell_type": "code",
      "execution_count": null,
      "metadata": {
        "colab": {
          "base_uri": "https://localhost:8080/"
        },
        "id": "j9kDJZmFJqWk",
        "outputId": "3031c9f3-cdbf-4b5f-d4c9-54fec0642397"
      },
      "outputs": [
        {
          "output_type": "stream",
          "name": "stdout",
          "text": [
            "+--------------------+----+-------------------+-----+--------------------+-----+--------------------+------+--------------------+\n",
            "|         business_id|cool|               date|funny|           review_id|stars|                text|useful|             user_id|\n",
            "+--------------------+----+-------------------+-----+--------------------+-----+--------------------+------+--------------------+\n",
            "|XQfwVwDr-v0ZS3_Cb...|   0|2018-07-07 22:09:11|    0|KU_O5udG6zpxOg-Vc...|  3.0|If you decide to ...|     0|mh_-eMZ6K5RLWhZyI...|\n",
            "|7ATYjTIgM3jUlt4UM...|   1|2012-01-03 15:28:18|    0|BiTunyQ73aT9WBnpR...|  5.0|I've taken a lot ...|     1|OyoGAe7OKpv6SyGZT...|\n",
            "|YjUWPpI6HXG530lwP...|   0|2014-02-05 20:30:30|    0|saUsX_uimxRlCVr67...|  3.0|Family diner. Had...|     0|8g_iMtfSiwikVnbP2...|\n",
            "|kxX2SOes4o-D3ZQBk...|   1|2015-01-04 00:01:03|    0|AqPFMleE6RsU23_au...|  5.0|Wow!  Yummy, diff...|     1|_7bHUi9Uuf5__HHc_...|\n",
            "|e4Vwtrqf-wpJfwesg...|   1|2017-01-14 20:54:15|    0|Sx8TMOWLNuJBWer-0...|  4.0|Cute interior and...|     1|bcjbaE6dDog4jkNY9...|\n",
            "|04UD14gamNjLY0IDY...|   1|2015-09-23 23:10:31|    2|JrIxlS1TzJ-iCu79u...|  1.0|I am a long term ...|     1|eUta8W_HdHMXPzLBB...|\n",
            "|gmjsEdUsKpj9Xxu6p...|   0|2015-01-03 23:21:18|    2|6AxgBCNX_PNTOxmbR...|  5.0|Loved this tour! ...|     0|r3zeYsv1XFBRA4dJp...|\n",
            "|LHSTtnW3YHCeUkRDG...|   0|2015-08-07 02:29:16|    0|_ZeMknuYdlQcUqng_...|  5.0|Amazingly amazing...|     2|yfFzsLmaWF2d4Sr0U...|\n",
            "|B5XSoSG3SfvQGtKEG...|   0|2016-03-30 22:46:33|    1|ZKvDG2sBvHVdF5oBN...|  3.0|This easter inste...|     1|wSTuiTk-sKNdcFypr...|\n",
            "|gebiRewfieSdtt17P...|   0|2016-07-25 07:31:06|    0|pUycOfUwM8vqX7KjR...|  3.0|Had a party of 6 ...|     0|59MxRhNVhU9MYndMk...|\n",
            "|uMvVYRgGNXf5boolA...|   0|2015-06-21 14:48:06|    0|rGQRf8UafX7OTlMNN...|  5.0|My experience wit...|     2|1WHRWwQmZOZDAhp2Q...|\n",
            "|EQ-TZ2eeD_E0BHuvo...|   0|2015-08-19 14:31:45|    0|l3Wk_mvAog6XANIuG...|  4.0|Locals recommende...|     0|ZbqSHbgCjzVAqaa7N...|\n",
            "|lj-E32x9_FA7GmUrB...|   0|2014-06-27 22:44:01|    0|XW_LfMv0fV21l9c6x...|  4.0|Love going here f...|     0|9OAtfnWag-ajVxRbU...|\n",
            "|RZtGWDLCAtuipwaZ-...|   0|2009-10-14 19:57:14|    0|8JFGBuHMoiNDyfcxu...|  4.0|Good food--loved ...|     0|smOvOajNG0lS4Pq7d...|\n",
            "|otQS34_MymijPTdNB...|   0|2011-10-27 17:12:05|    2|UBp0zWyH60Hmw6Fsa...|  4.0|The bun makes the...|     0|4Uh27DgGzsp6PqrH9...|\n",
            "|BVndHaLihEYbr76Z0...|   0|2014-10-11 16:22:06|    0|OAhBYw8IQ6wlfw1ow...|  5.0|Great place for b...|     0|1C2lxzUo1Hyye4RFI...|\n",
            "|YtSqYv1Q_pOltsVPS...|   0|2013-06-24 11:21:25|    0|oyaMhzBSwfGgemSGu...|  5.0|Tremendous servic...|     0|Dd1jQj7S-BFGqRbAp...|\n",
            "|rBdG_23USc7DletfZ...|   0|2014-08-10 19:41:43|    0|LnGZB0fjfgeVDVz5I...|  4.0|The hubby and I h...|     1|j2wlzrntrbKwyOcOi...|\n",
            "|CLEWowfkj-wKYJlQD...|   1|2016-03-07 00:02:18|    0|u2vzZaOqJ2feRshaa...|  5.0|I go to blow bar ...|     2|NDZvyYHTUWWu-kqgQ...|\n",
            "|eFvzHawVJofxSnD7T...|   0|2014-11-12 15:30:27|    0|Xs8Z8lmKkosqW5mw_...|  5.0|My absolute favor...|     0|IQsF3Rc6IgCzjVV9D...|\n",
            "+--------------------+----+-------------------+-----+--------------------+-----+--------------------+------+--------------------+\n",
            "only showing top 20 rows\n",
            "\n"
          ]
        }
      ],
      "source": [
        "df.show()"
      ]
    },
    {
      "cell_type": "code",
      "execution_count": null,
      "metadata": {
        "colab": {
          "base_uri": "https://localhost:8080/"
        },
        "id": "mC6xobCUJTWx",
        "outputId": "51d767a0-da92-4908-894b-b4318cf3ed0d"
      },
      "outputs": [
        {
          "output_type": "stream",
          "name": "stdout",
          "text": [
            "Número de linhas no DataFrame: 6990280\n"
          ]
        }
      ],
      "source": [
        "num_linhas = df.count()\n",
        "print(f\"Número de linhas no DataFrame: {num_linhas}\")"
      ]
    },
    {
      "cell_type": "code",
      "execution_count": null,
      "metadata": {
        "colab": {
          "base_uri": "https://localhost:8080/"
        },
        "id": "Ae_5FdTFOGwt",
        "outputId": "a8e48b65-d33a-45e3-bdb2-fd0715e9a5b1"
      },
      "outputs": [
        {
          "output_type": "stream",
          "name": "stdout",
          "text": [
            "root\n",
            " |-- business_id: string (nullable = true)\n",
            " |-- cool: long (nullable = true)\n",
            " |-- date: string (nullable = true)\n",
            " |-- funny: long (nullable = true)\n",
            " |-- review_id: string (nullable = true)\n",
            " |-- stars: double (nullable = true)\n",
            " |-- text: string (nullable = true)\n",
            " |-- useful: long (nullable = true)\n",
            " |-- user_id: string (nullable = true)\n",
            "\n"
          ]
        }
      ],
      "source": [
        "# Printando o esquema\n",
        "df.printSchema()"
      ]
    },
    {
      "cell_type": "markdown",
      "metadata": {
        "id": "XnYcB5jwPnA7"
      },
      "source": [
        "# Análise Exploratória de Dados"
      ]
    },
    {
      "cell_type": "code",
      "execution_count": null,
      "metadata": {
        "colab": {
          "base_uri": "https://localhost:8080/",
          "height": 487
        },
        "id": "RquhIkXBP6Tn",
        "outputId": "479f9111-1c58-441b-aa11-e4a6048a8ff1"
      },
      "outputs": [
        {
          "output_type": "display_data",
          "data": {
            "text/plain": [
              "<Figure size 800x500 with 1 Axes>"
            ],
            "image/png": "[encoded data removed]"
          },
          "metadata": {}
        }
      ],
      "source": [
        "# Esse gráfico ajuda a entender se há desequilíbrio de classes (por exemplo, se há muitas avaliações com 5 estrelas e poucas com 1 estrela)\n",
        "\n",
        "import matplotlib.pyplot as plt\n",
        "\n",
        "# Conta quantas reviews para cada valor de estrela\n",
        "stars_dist = df.groupBy(\"stars\").count().orderBy(\"stars\").collect()\n",
        "\n",
        "# Separa os valores para plotagem\n",
        "stars_vals = [row['stars'] for row in stars_dist]\n",
        "stars_counts = [row['count'] for row in stars_dist]\n",
        "\n",
        "plt.figure(figsize=(8, 5))\n",
        "plt.bar(stars_vals, stars_counts, color=\"skyblue\")\n",
        "plt.title(\"Distribuição das Notas nas Avaliações\")\n",
        "plt.xlabel(\"Estrelas\")\n",
        "plt.ylabel(\"Quantidade\")\n",
        "plt.grid(True, axis='y')\n",
        "plt.show()"
      ]
    },
    {
      "cell_type": "code",
      "execution_count": null,
      "metadata": {
        "colab": {
          "base_uri": "https://localhost:8080/",
          "height": 488
        },
        "id": "VZaRIF4oVGLp",
        "outputId": "0713afcb-c9c8-436d-f48a-025019d9031c"
      },
      "outputs": [
        {
          "output_type": "display_data",
          "data": {
            "text/plain": [
              "<Figure size 1000x500 with 1 Axes>"
            ],
            "image/png": "[encoded data removed]"
          },
          "metadata": {}
        }
      ],
      "source": [
        "# Esse gráfico mostra como o uso da plataforma evoluiu ao longo dos anos. Pode indicar aumento no número de usuários e atividade da comunidade\n",
        "\n",
        "from pyspark.sql.functions import year\n",
        "\n",
        "reviews_ano = df.withColumn(\"ano\", year(\"date\")) \\\n",
        "                       .groupBy(\"ano\").count() \\\n",
        "                       .orderBy(\"ano\") \\\n",
        "                       .collect()\n",
        "\n",
        "anos = [row['ano'] for row in reviews_ano]\n",
        "contagens = [row['count'] for row in reviews_ano]\n",
        "\n",
        "plt.figure(figsize=(10, 5))\n",
        "plt.bar(anos, contagens, color=\"teal\")\n",
        "plt.title(\"Número de Reviews por Ano\")\n",
        "plt.xlabel(\"Ano\")\n",
        "plt.ylabel(\"Quantidade de Reviews\")\n",
        "plt.grid(True)\n",
        "plt.show()"
      ]
    },
    {
      "cell_type": "code",
      "execution_count": null,
      "metadata": {
        "colab": {
          "base_uri": "https://localhost:8080/",
          "height": 256
        },
        "id": "IqhQfvTmWChE",
        "outputId": "3147c5ea-752d-4643-d592-08aa780ec74d"
      },
      "outputs": [
        {
          "output_type": "display_data",
          "data": {
            "text/plain": [
              "<Figure size 1000x200 with 1 Axes>"
            ],
            "image/png": "[encoded data removed]"
          },
          "metadata": {}
        }
      ],
      "source": [
        "# O boxplot ajuda a encontrar se há avaliações muito curtas ou excessivamente longas, que podem ser tratadas como outliers no modelo.\n",
        "from pyspark.sql.functions import length\n",
        "\n",
        "df_with_length = df.withColumn(\"text_length\", length(\"text\"))\n",
        "\n",
        "amostra = df_with_length.select(\"text_length\").sample(False, 0.001, seed=42).rdd.map(lambda row: row[\"text_length\"]).collect()\n",
        "\n",
        "plt.figure(figsize=(10, 2))\n",
        "plt.boxplot(amostra, vert=False)\n",
        "plt.title(\"Boxplot do Tamanho das Reviews\")\n",
        "plt.xlabel(\"Número de caracteres\")\n",
        "plt.grid(True)\n",
        "plt.show()"
      ]
    },
    {
      "cell_type": "code",
      "execution_count": null,
      "metadata": {
        "colab": {
          "base_uri": "https://localhost:8080/",
          "height": 488
        },
        "id": "pOKfEBknWSbY",
        "outputId": "b16c0f13-c650-4f30-a8b8-9c06a91b7889"
      },
      "outputs": [
        {
          "output_type": "display_data",
          "data": {
            "text/plain": [
              "<Figure size 800x500 with 1 Axes>"
            ],
            "image/png": "[encoded data removed]"
          },
          "metadata": {}
        }
      ],
      "source": [
        "# Este gráfico pode ser bom para entender se pessoas que deram notas ruins escrevem mais ou menos do que as que deram boas notas.\n",
        "media_por_estrela = df_with_length.groupBy(\"stars\") \\\n",
        "    .avg(\"text_length\") \\\n",
        "    .orderBy(\"stars\") \\\n",
        "    .collect()\n",
        "\n",
        "stars = [row[\"stars\"] for row in media_por_estrela]\n",
        "medias = [row[\"avg(text_length)\"] for row in media_por_estrela]\n",
        "\n",
        "plt.figure(figsize=(8, 5))\n",
        "plt.plot(stars, medias, marker='o', color=\"orange\")\n",
        "plt.title(\"Tamanho Médio das Reviews por Nota\")\n",
        "plt.xlabel(\"Estrelas\")\n",
        "plt.ylabel(\"Tamanho Médio do Texto\")\n",
        "plt.grid(True)\n",
        "plt.show()"
      ]
    },
    {
      "cell_type": "code",
      "execution_count": null,
      "metadata": {
        "colab": {
          "base_uri": "https://localhost:8080/"
        },
        "id": "K2SqZPR1aOHx",
        "outputId": "18a6a4a2-6b9c-4086-8735-688da9cb2e42"
      },
      "outputs": [
        {
          "output_type": "stream",
          "name": "stdout",
          "text": [
            "+-----------+----+----+-----+---------+-----+----+------+-------+\n",
            "|business_id|cool|date|funny|review_id|stars|text|useful|user_id|\n",
            "+-----------+----+----+-----+---------+-----+----+------+-------+\n",
            "|          0|   0|   0|    0|        0|    0|   0|     0|      0|\n",
            "+-----------+----+----+-----+---------+-----+----+------+-------+\n",
            "\n"
          ]
        }
      ],
      "source": [
        "# Verificar colunas com valores nulos\n",
        "from pyspark.sql.functions import col, isnan, count, when\n",
        "\n",
        "# Conta os valores nulos ou vazios por coluna\n",
        "df.select([\n",
        "    count(when(col(c).isNull() | isnan(c), c)).alias(c) for c in df.columns\n",
        "]).show()"
      ]
    },
    {
      "cell_type": "code",
      "execution_count": null,
      "metadata": {
        "colab": {
          "base_uri": "https://localhost:8080/"
        },
        "id": "iRDtsLMlet_g",
        "outputId": "6c37f533-73c9-49a4-d934-fb46935d03e9"
      },
      "outputs": [
        {
          "output_type": "execute_result",
          "data": {
            "text/plain": [
              "(6990280, 6990280)"
            ]
          },
          "metadata": {},
          "execution_count": 14
        }
      ],
      "source": [
        "# Verificar se existem registros duplicados inteiros\n",
        "df.count(), df.dropDuplicates().count()"
      ]
    },
    {
      "cell_type": "code",
      "execution_count": null,
      "metadata": {
        "colab": {
          "base_uri": "https://localhost:8080/"
        },
        "id": "husetRY8evwC",
        "outputId": "a919027f-b02c-43ca-e4d8-b6e2fa737349"
      },
      "outputs": [
        {
          "output_type": "stream",
          "name": "stdout",
          "text": [
            "+---------+-----+\n",
            "|review_id|count|\n",
            "+---------+-----+\n",
            "+---------+-----+\n",
            "\n"
          ]
        }
      ],
      "source": [
        "# Verifica se existe review_id duplicado (deveria ser único)\n",
        "df.groupBy(\"review_id\").count().filter(\"count > 1\").show()"
      ]
    },
    {
      "cell_type": "code",
      "execution_count": null,
      "metadata": {
        "colab": {
          "base_uri": "https://localhost:8080/"
        },
        "id": "R5EMVQLoeyr2",
        "outputId": "26b82462-d2d5-4b17-ac55-2040ec147f0f"
      },
      "outputs": [
        {
          "output_type": "stream",
          "name": "stdout",
          "text": [
            "user_id - valores únicos: 1987929\n",
            "business_id - valores únicos: 150346\n",
            "stars - valores únicos: 5\n"
          ]
        }
      ],
      "source": [
        "# Contar valores únicos para algumas colunas\n",
        "for col_name in [\"user_id\", \"business_id\", \"stars\"]:\n",
        "    print(f\"{col_name} - valores únicos:\", df.select(col_name).distinct().count())"
      ]
    },
    {
      "cell_type": "markdown",
      "metadata": {
        "id": "XtYf-Z7pY55i"
      },
      "source": [
        "## Conclusões da EDA\n",
        "1. Distribuição das Notas\n",
        "- O gráfico mostra um **desequilíbrio de classes**, com uma concentração nas avaliações de 5 estrelas.\n",
        "- Isso é comum em plataformas como o Yelp, onde usuários tendem a avaliar positivamente quando estão satisfeitos.\n",
        "- Esse desequilíbrio precisa ser considerado na etapa de classificação, pois pode causar viés do modelo.\n",
        "\n",
        "2. Reviews por Ano\n",
        "- Observa-se um crescimento no uso da plataforma até o pico em 2016–2018.\n",
        "- Após 2018, há uma leve queda que pode estar relacionada à pandemia em 2020.\n",
        "- Esse padrão mostra engajamento crescente ao longo do tempo, o que valida o uso da base para prever padrões futuros.\n",
        "\n",
        "3. Outliers no Tamanho das Reviews\n",
        "- Existem outliers significativos acima de 1500 caracteres, chegando a mais de 5000.\n",
        "- Essas reviews longas são casos raros e podem ser tratados separadamente ou truncados.\n",
        "\n",
        "4. Tamanho das Reviews por Nota\n",
        "- Não há grandes diferenças no tamanho médio dos textos entre diferentes notas.\n",
        "- Ou seja, avaliar se a review é positiva ou negativa não depende diretamente do tamanho do texto.\n",
        "\n",
        "5. Duplicatas e valores ausentes\n",
        "- Não foram encontrados valores nulos ou ausentes em nenhuma coluna\n",
        "- Não há registros duplicados completos\n",
        "- Todos os review_id são únicos, como esperado\n",
        "- Há alta diversidade de usuários e negócios. A variável stars tem 5 categorias distintas (1 a 5)."
      ]
    },
    {
      "cell_type": "markdown",
      "metadata": {
        "id": "pDGO_96sjgAZ"
      },
      "source": [
        "# Processamento de dados\n",
        "\n",
        "----\n",
        "Reduzindo o volume de dados com um filtro temporal (apenas reviews de 2018) e manter apenas reviews com 1, 3 e 5 estrelas."
      ]
    },
    {
      "cell_type": "code",
      "execution_count": null,
      "metadata": {
        "id": "OLhDOfuvDznQ"
      },
      "outputs": [],
      "source": [
        "from pyspark.sql.functions import year, col\n",
        "\n",
        "df_filtered = df.withColumn(\"year\", year(\"date\")) \\\n",
        "    .filter((col(\"year\") == 2018) & (col(\"stars\").isin([1, 3, 5])))"
      ]
    },
    {
      "cell_type": "code",
      "execution_count": null,
      "metadata": {
        "colab": {
          "base_uri": "https://localhost:8080/"
        },
        "id": "eT7NPMKMJ1xH",
        "outputId": "eda97200-862e-437a-fc41-c5cf1e5b09ec"
      },
      "outputs": [
        {
          "output_type": "stream",
          "name": "stdout",
          "text": [
            "+-----+------+\n",
            "|stars| count|\n",
            "+-----+------+\n",
            "|  1.0|148425|\n",
            "|  3.0| 77119|\n",
            "|  5.0|456027|\n",
            "+-----+------+\n",
            "\n"
          ]
        }
      ],
      "source": [
        "df_filtered.select(\"stars\").groupBy(\"stars\").count().show()"
      ]
    },
    {
      "cell_type": "code",
      "execution_count": null,
      "metadata": {
        "id": "I2CZflxyQNut"
      },
      "outputs": [],
      "source": [
        "df_ml = df_filtered.select(col(\"text\"), col(\"stars\").alias(\"label\"))"
      ]
    },
    {
      "cell_type": "code",
      "execution_count": null,
      "metadata": {
        "colab": {
          "base_uri": "https://localhost:8080/"
        },
        "id": "DFc3C1DyAkW7",
        "outputId": "36218f37-517b-4b52-84e1-7180847872a0"
      },
      "outputs": [
        {
          "output_type": "stream",
          "name": "stdout",
          "text": [
            "+-----+--------------------+\n",
            "|label|            features|\n",
            "+-----+--------------------+\n",
            "|  3.0|(10000,[92,129,27...|\n",
            "|  5.0|(10000,[416,524,1...|\n",
            "|  5.0|(10000,[44,750,19...|\n",
            "|  5.0|(10000,[815,1930,...|\n",
            "|  1.0|(10000,[55,248,12...|\n",
            "+-----+--------------------+\n",
            "only showing top 5 rows\n",
            "\n"
          ]
        }
      ],
      "source": [
        "from pyspark.ml.feature import Tokenizer, StopWordsRemover, HashingTF, IDF\n",
        "from pyspark.ml import Pipeline\n",
        "\n",
        "# Tokenização\n",
        "tokenizer = Tokenizer(inputCol=\"text\", outputCol=\"words\")\n",
        "\n",
        "# Remover stopwords\n",
        "remover = StopWordsRemover(inputCol=\"words\", outputCol=\"filtered\")\n",
        "\n",
        "# Vetorização com TF\n",
        "hashingTF = HashingTF(inputCol=\"filtered\", outputCol=\"rawFeatures\", numFeatures=10000)\n",
        "\n",
        "# Aplicar IDF para reponderar as palavras\n",
        "idf = IDF(inputCol=\"rawFeatures\", outputCol=\"features\")\n",
        "\n",
        "# Pipeline de pré-processamento\n",
        "pipeline = Pipeline(stages=[tokenizer, remover, hashingTF, idf])\n",
        "model_pipeline = pipeline.fit(df_ml)\n",
        "df_transformed = model_pipeline.transform(df_ml)\n",
        "\n",
        "# Visualizar resultado final com features vetorizadas\n",
        "df_transformed.select(\"label\", \"features\").show(5)"
      ]
    },
    {
      "cell_type": "markdown",
      "metadata": {
        "id": "YB9hOUOVStfV"
      },
      "source": [
        "----\n",
        "## Resumo da Situação Atual\n",
        "- Texto da avaliação (text), já vetorizado com TF-IDF.\n",
        "- Nota (stars), com 3 classes: 1, 3 e 5.\n",
        "- Dataset filtrado: Apenas o ano de 2018.\n",
        "\n",
        "- Distribuição das classes:\n",
        "-- 1 estrela: 148425\n",
        "-- 3 estrelas: 77119\n",
        "-- 5 estrelas: 456027\n",
        "\n",
        "----\n",
        "Aqui há um desbalanceamento de classes, então será usada uma abordagem que mantém os dados existentes e amplia as classes minoritárias:\n",
        "\n",
        "- Oversampling: Duplicar exemplos das classes 1.0 e 3.0 para equilibrar com a classe 5.0"
      ]
    },
    {
      "cell_type": "markdown",
      "metadata": {
        "id": "fTCKgitwRLLS"
      },
      "source": [
        "# Modelagem"
      ]
    },
    {
      "cell_type": "code",
      "source": [
        "df_5 = df_transformed.filter(col(\"label\") == 5.0)\n",
        "\n",
        "df_1 = df_transformed.filter(col(\"label\") == 1.0)\n",
        "df_3 = df_transformed.filter(col(\"label\") == 3.0)\n",
        "\n",
        "df_1_oversampled = df_1.union(df_1)\n",
        "df_3_oversampled = df_3.union(df_3)\n",
        "\n",
        "df_balanced = df_1_oversampled.union(df_3_oversampled).union(df_5)\n",
        "\n",
        "df_balanced.groupBy(\"label\").count().show()"
      ],
      "metadata": {
        "colab": {
          "base_uri": "https://localhost:8080/"
        },
        "id": "M5BqXazbG3M1",
        "outputId": "9d3ca8ed-4d9c-4b27-97cb-b731347fd434"
      },
      "execution_count": null,
      "outputs": [
        {
          "output_type": "stream",
          "name": "stdout",
          "text": [
            "+-----+------+\n",
            "|label| count|\n",
            "+-----+------+\n",
            "|  1.0|296850|\n",
            "|  3.0|154238|\n",
            "|  5.0|456027|\n",
            "+-----+------+\n",
            "\n"
          ]
        }
      ]
    },
    {
      "cell_type": "code",
      "execution_count": null,
      "metadata": {
        "id": "OyU3H6TrRKGc"
      },
      "outputs": [],
      "source": [
        "# 80% treino, 20% teste\n",
        "train_data, test_data = df_balanced.randomSplit([0.8, 0.2], seed=42)"
      ]
    },
    {
      "cell_type": "markdown",
      "metadata": {
        "id": "3wopkhbLR1BH"
      },
      "source": [
        "## Regressão Logística"
      ]
    },
    {
      "cell_type": "code",
      "execution_count": null,
      "metadata": {
        "id": "qWwJlzLxR3ZQ"
      },
      "outputs": [],
      "source": [
        "from pyspark.ml.classification import LogisticRegression\n",
        "\n",
        "lr = LogisticRegression(featuresCol=\"features\", labelCol=\"label\", maxIter=20, regParam=0.1)\n",
        "\n",
        "# Treinar\n",
        "lr_model = lr.fit(train_data)\n",
        "\n",
        "# Avaliar\n",
        "lr_predictions = lr_model.transform(test_data)"
      ]
    },
    {
      "cell_type": "markdown",
      "metadata": {
        "id": "fBOpfyMsR9HM"
      },
      "source": [
        "## Naive Bayes"
      ]
    },
    {
      "cell_type": "code",
      "execution_count": null,
      "metadata": {
        "id": "8FHpHs1bR8dJ"
      },
      "outputs": [],
      "source": [
        "from pyspark.ml.classification import NaiveBayes\n",
        "\n",
        "nb = NaiveBayes(featuresCol=\"features\", labelCol=\"label\", smoothing=1.0, modelType=\"multinomial\")\n",
        "\n",
        "# Treinar\n",
        "nb_model = nb.fit(train_data)\n",
        "\n",
        "# Avaliar\n",
        "nb_predictions = nb_model.transform(test_data)"
      ]
    },
    {
      "cell_type": "markdown",
      "metadata": {
        "id": "PVxvt5VOScUT"
      },
      "source": [
        "## Avaliação"
      ]
    },
    {
      "cell_type": "code",
      "execution_count": null,
      "metadata": {
        "id": "-WDjmnRRSaeG",
        "colab": {
          "base_uri": "https://localhost:8080/"
        },
        "outputId": "23885c8f-bc01-454e-e656-1cd34698da92"
      },
      "outputs": [
        {
          "output_type": "stream",
          "name": "stdout",
          "text": [
            "Acurácia Regressão Logística: 0.8670150185315091\n",
            "Acurácia Naive Bayes: 0.06280828311506106\n"
          ]
        }
      ],
      "source": [
        "from pyspark.ml.evaluation import MulticlassClassificationEvaluator\n",
        "\n",
        "evaluator = MulticlassClassificationEvaluator(labelCol=\"label\", predictionCol=\"prediction\", metricName=\"accuracy\")\n",
        "\n",
        "# Acurácia\n",
        "lr_accuracy = evaluator.evaluate(lr_predictions)\n",
        "nb_accuracy = evaluator.evaluate(nb_predictions)\n",
        "\n",
        "\n",
        "print(\"Acurácia Regressão Logística:\", lr_accuracy)\n",
        "print(\"Acurácia Naive Bayes:\", nb_accuracy)"
      ]
    },
    {
      "cell_type": "markdown",
      "source": [
        "----\n",
        "# **Conclusão e Considerações Finais**\n",
        "Neste projeto, realizamos uma tarefa de classificação utilizando o **Yelp Dataset**, focando nas avaliações textuais dos usuários, com o objetivo de prever a quantidade de estrelas atribuídas (1, 3 ou 5) com base apenas no conteúdo textual.\n",
        "\n",
        "\n",
        "- Foram treinados dois modelos de aprendizado de máquina:\n",
        "  - **Regressão Logística**, que alcançou uma acurácia de **86.7%**, mostrando ótima performance na tarefa proposta.\n",
        "  - **Naive Bayes**, que teve desempenho muito inferior (**6.3%**), provavelmente por não lidar bem com a estrutura dos vetores TF-IDF no cenário específico, já que esse modelo assume independência entre atributos — o que raramente é o caso em representações textuais complexas.\n",
        "\n",
        "---\n",
        "\n",
        "### **Conclusão Final**\n",
        "\n",
        "Através deste estudo, conseguimos demonstrar como técnicas de Big Data, análise textual e aprendizado de máquina podem ser aplicadas em conjunto para resolver problemas reais com grandes volumes de dados. O pipeline criado serve como base para aplicações mais complexas no mundo real, como análise de sentimento automatizada, moderação de conteúdo e sistemas de recomendação."
      ],
      "metadata": {
        "id": "0VWKOV50jYkP"
      }
    }
  ],
  "metadata": {
    "colab": {
      "provenance": []
    },
    "kernelspec": {
      "display_name": "Python 3",
      "name": "python3"
    },
    "language_info": {
      "name": "python"
    }
  },
  "nbformat": 4,
  "nbformat_minor": 0
}